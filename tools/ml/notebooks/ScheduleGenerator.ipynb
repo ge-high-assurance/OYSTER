{
 "cells": [
  {
   "cell_type": "markdown",
   "id": "7c53bcfd",
   "metadata": {},
   "source": [
    "# Schedule Generator\n",
    "\n",
    "This code creates Lustre files with different numbers of jobs needing to be scheduled and runs Kind2 on them.  Jobs are created using two parameters:\n",
    "  * **cost_range**: A pair of integers representing the lower and upper bounds on running time\n",
    "  * **interval**: An integer representing the interval after which the jobs repeat\n",
    "  \n",
    "Easy scheduling tasks involve large intervals, small numbers of jobs, and small cost ranges.  As the intervals gets smaller, the number of jobs gets bigger, and the cost range gets larger it becomes more difficult to randomly get a workable schedule."
   ]
  },
  {
   "cell_type": "code",
   "execution_count": null,
   "id": "e6dc2829",
   "metadata": {},
   "outputs": [],
   "source": [
    "import random\n",
    "import os"
   ]
  },
  {
   "cell_type": "code",
   "execution_count": null,
   "id": "04ae3c8e",
   "metadata": {},
   "outputs": [],
   "source": [
    "def make_job(cost_range, interval):\n",
    "    return 'schedule(%d, %d, %d)' % \\\n",
    "           (random.randrange(interval),\n",
    "            random.randrange(*cost_range),\n",
    "            interval)"
   ]
  },
  {
   "cell_type": "code",
   "execution_count": null,
   "id": "6923e070",
   "metadata": {},
   "outputs": [],
   "source": [
    "def make_jobs(njobs, cost_range, interval):\n",
    "    jobs = []\n",
    "    for i in range(njobs):\n",
    "        jobs.append('    j%d_status = %s;' % (i, make_job(cost_range, interval)))\n",
    "    return jobs"
   ]
  },
  {
   "cell_type": "code",
   "execution_count": null,
   "id": "bbc3c8c0",
   "metadata": {},
   "outputs": [],
   "source": [
    "def make_lustre(njobs, cost_range, interval):\n",
    "    \"\"\"\n",
    "    Create a Luster file that defines a number of jobs with start times, run times,\n",
    "    and repeat intervals, and asserts the property that nome of the jobs overlap.\n",
    "    \n",
    "    Arguments:\n",
    "      njob       - Number of jobs\n",
    "      cost_range - Tuple of the form (shortest run time, longest run time)\n",
    "      interval   - Repeat interval\n",
    "      \n",
    "    Returns: A string that represents the problem in Luster format\n",
    "    \"\"\"\n",
    "    \n",
    "    output = open('schedule.template').read()\n",
    "    \n",
    "    # Define variables\n",
    "    output += 'node processor() returns('\n",
    "    for i in range(njobs):\n",
    "        output += 'j%d_status:bool;' % i\n",
    "    output += ');\\n'\n",
    "    output += 'var no_conflict : bool;\\n'\n",
    "\n",
    "    # Create the jobs\n",
    "    jobs = make_jobs(njobs, cost_range, interval)\n",
    "    output += 'let\\n'\n",
    "    output += '\\n'.join(jobs) + '\\n'\n",
    "    \n",
    "    # Define the property to test\n",
    "    output += '    no_conflict = not ('\n",
    "    tests = []\n",
    "    for i in range(njobs):\n",
    "        for j in range(i + 1, njobs):\n",
    "            tests.append('(j%d_status and j%d_status)' % (i, j))\n",
    "    output += ' or '.join(tests)\n",
    "    output += ');\\n'\n",
    "    output += '    --%PROPERTY no_conflict;\\n'\n",
    "    output += '\\ntel'\n",
    "    \n",
    "    return output"
   ]
  },
  {
   "cell_type": "markdown",
   "id": "6f14dad5",
   "metadata": {},
   "source": [
    "### Example output\n",
    "\n",
    "Note that the propery is more likely to fail with larger numbers of jobs, shorter repeat intervals, and longer running times (costs)."
   ]
  },
  {
   "cell_type": "code",
   "execution_count": null,
   "id": "6dff7656",
   "metadata": {},
   "outputs": [],
   "source": [
    "print(make_lustre(3, (2, 3), 20))"
   ]
  },
  {
   "cell_type": "code",
   "execution_count": null,
   "id": "53043780",
   "metadata": {},
   "outputs": [],
   "source": [
    "for i in range(10):\n",
    "    print('Iteration %d' % i)\n",
    "    lustre = make_lustre(3, (2, 3), 25)\n",
    "    with open('test.lus', 'w') as file:\n",
    "        file.write(lustre)\n",
    "        \n",
    "    #\n",
    "    # Replace this line with whatever is needed to run Kind2 on an input file\n",
    "    # named test.lus and dump the output of Kind2 to a file named OUT\n",
    "    #\n",
    "    \n",
    "    !docker run -v /Users/oates/Desktop/mydocuments/funding/current/oyster/Kind2:/lus kind2/kind2 /lus/test.lus > OUT\n",
    "        \n",
    "    for line in open('OUT').readlines():\n",
    "        if 'valid' in line:\n",
    "            print(line.strip())\n",
    "\n",
    "    os.rename('test.lus', 'test_%02d.lus' % i)\n",
    "    os.rename('OUT', 'kind2_%02d.txt' % i)"
   ]
  },
  {
   "cell_type": "code",
   "execution_count": null,
   "id": "c55fdbb8",
   "metadata": {},
   "outputs": [],
   "source": []
  },
  {
   "cell_type": "code",
   "execution_count": null,
   "id": "730d169c",
   "metadata": {},
   "outputs": [],
   "source": []
  }
 ],
 "metadata": {
  "kernelspec": {
   "display_name": "Python 3",
   "language": "python",
   "name": "python3"
  },
  "language_info": {
   "codemirror_mode": {
    "name": "ipython",
    "version": 3
   },
   "file_extension": ".py",
   "mimetype": "text/x-python",
   "name": "python",
   "nbconvert_exporter": "python",
   "pygments_lexer": "ipython3",
   "version": "3.8.8"
  }
 },
 "nbformat": 4,
 "nbformat_minor": 5
}
